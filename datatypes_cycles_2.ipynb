{
  "nbformat": 4,
  "nbformat_minor": 0,
  "metadata": {
    "colab": {
      "name": "datatypes_cycles_2.ipynb",
      "provenance": [],
      "collapsed_sections": [],
      "authorship_tag": "ABX9TyO8abfjCf4y8GmzTY0u0Fab",
      "include_colab_link": true
    },
    "kernelspec": {
      "name": "python3",
      "display_name": "Python 3"
    },
    "language_info": {
      "name": "python"
    }
  },
  "cells": [
    {
      "cell_type": "markdown",
      "metadata": {
        "id": "view-in-github",
        "colab_type": "text"
      },
      "source": [
        "<a href=\"https://colab.research.google.com/github/GezhinOleg/PyDa_L3/blob/main/datatypes_cycles_2.ipynb\" target=\"_parent\"><img src=\"https://colab.research.google.com/assets/colab-badge.svg\" alt=\"Open In Colab\"/></a>"
      ]
    },
    {
      "cell_type": "code",
      "metadata": {
        "colab": {
          "base_uri": "https://localhost:8080/"
        },
        "id": "QphFWp5gvsu0",
        "outputId": "9747c113-ee49-4d1f-b20d-53c75a721cf8"
      },
      "source": [
        "'''\n",
        "Дана переменная, в которой хранится словарь, содержащий гео-метки\n",
        "для каждого пользователя (пример структуры данных приведен ниже).\n",
        "Вам необходимо написать программу, которая выведет на экран\n",
        "множество уникальных гео-меток всех пользователей.\n",
        "Пример работы программы:\n",
        "\n",
        "Результат: {98, 35, 15, 213, 54, 119}\n",
        "'''\n",
        "ids = {'user1': [213, 213, 213, 15, 213],\n",
        "       'user2': [54, 54, 119, 119, 119],\n",
        "       'user3': [213, 98, 98, 35]}\n",
        "\n",
        "ids_set = {}\n",
        "ids_lst = []\n",
        "for i in ids.values():\n",
        "    for j in i:\n",
        "        ids_lst.append(j)\n",
        "ids_set = set(ids_lst)\n",
        "print(ids_set)"
      ],
      "execution_count": 1,
      "outputs": [
        {
          "output_type": "stream",
          "text": [
            "{98, 35, 15, 213, 54, 119}\n"
          ],
          "name": "stdout"
        }
      ]
    },
    {
      "cell_type": "code",
      "metadata": {
        "colab": {
          "base_uri": "https://localhost:8080/"
        },
        "id": "uwG_axnuwk3N",
        "outputId": "2776fd90-3612-4fe7-ed07-f4763feb2f45"
      },
      "source": [
        "'''\n",
        "Дана переменная, в которой хранится список поисковых запросов пользователя\n",
        "(пример структуры данных приведен ниже). Вам необходимо написать программу,\n",
        "которая выведет на экран распределение количества слов в запросах в требуемом виде.\n",
        "Пример работы программы:\n",
        "queries = [\n",
        "    'смотреть сериалы онлайн',\n",
        "    'новости спорта',\n",
        "    'афиша кино',\n",
        "    'курс доллара',\n",
        "    'сериалы этим летом',\n",
        "    'курс по питону',\n",
        "    'сериалы про спорт',\n",
        "]\n",
        "Результат:\n",
        "Поисковых запросов, содержащих 2 слов(а): 42.86%\n",
        "Поисковых запросов, содержащих 3 слов(а): 57.14%\n",
        "'''\n",
        "queries = [\n",
        "    'смотреть сериалы онлайн',\n",
        "    'новости спорта',\n",
        "    'афиша кино',\n",
        "    'курс доллара',\n",
        "    'сериалы этим летом',\n",
        "    'курс по питону',\n",
        "    'сериалы про спорт',\n",
        "]\n",
        "count_list = []\n",
        "for i in queries:\n",
        "    count_list.append(len(i.split(' ')))\n",
        "\n",
        "dct = {}\n",
        "for j in count_list:\n",
        "    if j in dct:\n",
        "        dct[j] += 1\n",
        "    else:\n",
        "        dct[j] = 1\n",
        "for item in sorted(dct):\n",
        "    print('Поисковых запросов, содержащих', item, 'слов(а):', round((dct[item] * 100 / len(count_list)), 2), '%')\n"
      ],
      "execution_count": 2,
      "outputs": [
        {
          "output_type": "stream",
          "text": [
            "Поисковых запросов, содержащих 2 слов(а): 42.86 %\n",
            "Поисковых запросов, содержащих 3 слов(а): 57.14 %\n"
          ],
          "name": "stdout"
        }
      ]
    },
    {
      "cell_type": "markdown",
      "metadata": {
        "id": "NgNBLVqrz6Xu"
      },
      "source": [
        ""
      ]
    },
    {
      "cell_type": "code",
      "metadata": {
        "id": "GWd2opfgz7TF"
      },
      "source": [
        ""
      ],
      "execution_count": null,
      "outputs": []
    },
    {
      "cell_type": "code",
      "metadata": {
        "colab": {
          "base_uri": "https://localhost:8080/"
        },
        "id": "4hmzJx7Rw7F9",
        "outputId": "b98cf0c2-8931-4fa5-f99c-65667618bbed"
      },
      "source": [
        "from pprint import pprint\n",
        "results = {\n",
        "    'vk': {'revenue': 103, 'cost': 98},\n",
        "    'yandex': {'revenue': 179, 'cost': 153},\n",
        "    'facebook': {'revenue': 103, 'cost': 110},\n",
        "    'adwords': {'revenue': 35, 'cost': 34},\n",
        "    'twitter': {'revenue': 11, 'cost': 24},\n",
        "}\n",
        "\n",
        "for i in results.values():\n",
        "    i['ROI'] = round(((i['revenue'] / i['cost'] - 1) * 100), 2)\n",
        "    \n",
        "pprint(results)"
      ],
      "execution_count": 8,
      "outputs": [
        {
          "output_type": "stream",
          "text": [
            "{'adwords': {'ROI': 2.94, 'cost': 34, 'revenue': 35},\n",
            " 'facebook': {'ROI': -6.36, 'cost': 110, 'revenue': 103},\n",
            " 'twitter': {'ROI': -54.17, 'cost': 24, 'revenue': 11},\n",
            " 'vk': {'ROI': 5.1, 'cost': 98, 'revenue': 103},\n",
            " 'yandex': {'ROI': 16.99, 'cost': 153, 'revenue': 179}}\n"
          ],
          "name": "stdout"
        }
      ]
    },
    {
      "cell_type": "code",
      "metadata": {
        "colab": {
          "base_uri": "https://localhost:8080/"
        },
        "id": "z_KfnVJEyNDN",
        "outputId": "bf0bca04-e628-4dbb-e048-98f701b54a84"
      },
      "source": [
        "'''\n",
        "Дана переменная, в которой хранится статистика рекламных каналов по объемам\n",
        "продаж (пример структуры данных приведен ниже). Напишите программу,\n",
        "которая возвращает название канала с максимальным объемом продаж.\n",
        "Пример работы программы:\n",
        "stats = {'facebook': 55, 'yandex': 115, 'vk': 120, 'google': 99, 'email': 42, 'ok': 98}\n",
        "Результат: Максимальный объем продаж на рекламном канале: vk\n",
        "'''\n",
        "\n",
        "stats = {'facebook': 55, 'yandex': 115, 'vk': 120, 'google': 99, 'email': 42, 'ok': 98}\n",
        "max = stats['facebook']\n",
        "max_key = ''\n",
        "for k, v in stats.items():\n",
        "    if v > max:\n",
        "        max = v\n",
        "        max_key = k\n",
        "\n",
        "print('Максимальный объем продаж на рекламном канале:', max_key)"
      ],
      "execution_count": 9,
      "outputs": [
        {
          "output_type": "stream",
          "text": [
            "Максимальный объем продаж на рекламном канале: vk\n"
          ],
          "name": "stdout"
        }
      ]
    },
    {
      "cell_type": "code",
      "metadata": {
        "colab": {
          "base_uri": "https://localhost:8080/"
        },
        "id": "TQs4m4EgyXrb",
        "outputId": "03fe8eda-6dd8-4bc5-be45-787b73f84962"
      },
      "source": [
        "'''\n",
        "Дан список произвольной длины. Необходимо написать код, который на основе\n",
        "исходного списка составит словарь такого уровня вложенности, какова длина\n",
        "исхондого списка.\n",
        "Примеры работы программы:\n",
        "    my_list = ['2018-01-01', 'yandex', 'cpc', 100]\n",
        "Результат: {'2018-01-01': {'yandex': {'cpc': 100}}}\n",
        "    my_list = ['a', 'b', 'c', 'd', 'e', 'f']\n",
        "Результат: {'a': {'b': {'c': {'d': {'e': 'f'}}}}}\n",
        "'''\n",
        "\n",
        "my_list = ['a', 'b', 'c', 'd', 'e', 'f']\n",
        "\n",
        "finish_dict = {my_list[-2]: my_list[-1]}\n",
        "for i in my_list[:-2][::-1]:\n",
        "    finish_dict = {i: finish_dict}\n",
        "print(finish_dict)"
      ],
      "execution_count": 10,
      "outputs": [
        {
          "output_type": "stream",
          "text": [
            "{'a': {'b': {'c': {'d': {'e': 'f'}}}}}\n"
          ],
          "name": "stdout"
        }
      ]
    },
    {
      "cell_type": "code",
      "metadata": {
        "colab": {
          "base_uri": "https://localhost:8080/"
        },
        "id": "1s2uHzC8yfY7",
        "outputId": "3c18a96c-d48b-4e7c-e10d-fae9f380df00"
      },
      "source": [
        "'''\n",
        "Дана книга рецептов с информацией о том, сколько ингредиентов нужно для\n",
        "приготовления блюда в расчете на одну порцию (пример данных представлен ниже).\n",
        "Напишите программу, которая будет запрашивать у пользователя количество\n",
        "порций для приготовления этих блюд и отображать информацию о суммарном\n",
        "количестве требуемых ингредиентов в указанном виде.\n",
        "Внимание! Одинаковые ингридиенты с разными размерностями нужно считать\n",
        "раздельно! Пример работы программы:\n",
        "\n",
        "cook_book = {\n",
        "  'салат': [\n",
        "     {'ingridient_name': 'сыр', 'quantity': 50, 'measure': 'гр'},\n",
        "     {'ingridient_name': 'томаты', 'quantity': 2, 'measure': 'шт'},\n",
        "     {'ingridient_name': 'огурцы', 'quantity': 20, 'measure': 'гр'},\n",
        "     {'ingridient_name': 'маслины', 'quantity': 10, 'measure': 'гр'},\n",
        "     {'ingridient_name': 'оливковое масло', 'quantity': 20, 'measure': 'мл'},\n",
        "     {'ingridient_name': 'салат', 'quantity': 10, 'measure': 'гр'},\n",
        "     {'ingridient_name': 'перец', 'quantity': 20, 'measure': 'гр'}\n",
        "    ],\n",
        "  'пицца': [\n",
        "     {'ingridient_name': 'сыр', 'quantity': 20, 'measure': 'гр'},\n",
        "     {'ingridient_name': 'колбаса', 'quantity': 30, 'measure': 'гр'},\n",
        "     {'ingridient_name': 'бекон', 'quantity': 30, 'measure': 'гр'},\n",
        "     {'ingridient_name': 'оливки', 'quantity': 10, 'measure': 'гр'},\n",
        "     {'ingridient_name': 'томаты', 'quantity': 20, 'measure': 'гр'},\n",
        "     {'ingridient_name': 'тесто', 'quantity': 100, 'measure': 'гр'},\n",
        "    ],\n",
        "  'лимонад': [\n",
        "     {'ingridient_name': 'лимон', 'quantity': 1, 'measure': 'шт'},\n",
        "     {'ingridient_name': 'вода', 'quantity': 200, 'measure': 'мл'},\n",
        "     {'ingridient_name': 'сахар', 'quantity': 10, 'measure': 'гр'},\n",
        "     {'ingridient_name': 'лайм', 'quantity': 20, 'measure': 'гр'},\n",
        "    ]\n",
        "}\n",
        "Введите количество порций:\n",
        "3\n",
        "Результат:\n",
        "Сыр: 210 гр\n",
        "Томаты: 6 шт\n",
        "Огурцы: 60 гр\n",
        "Маслины: 30 гр\n",
        "Оливковое масло: 60 мл\n",
        "Салат: 30 гр\n",
        "Перец: 60 гр\n",
        "Колбаса: 90 гр\n",
        "Бекон: 90 гр\n",
        "Оливки: 30 гр\n",
        "Томаты: 60 гр\n",
        "Тесто: 300 гр\n",
        "Лимон: 3 шт\n",
        "Вода: 600 мл\n",
        "Сахар: 30 гр\n",
        "Лайм: 60 гр\n",
        "'''\n",
        "\n",
        "cook_book = {\n",
        "  'салат': [\n",
        "     {'ingridient_name': 'сыр', 'quantity': 50, 'measure': 'гр'},\n",
        "     {'ingridient_name': 'томаты', 'quantity': 2, 'measure': 'шт'},\n",
        "     {'ingridient_name': 'огурцы', 'quantity': 20, 'measure': 'гр'},\n",
        "     {'ingridient_name': 'маслины', 'quantity': 10, 'measure': 'гр'},\n",
        "     {'ingridient_name': 'оливковое масло', 'quantity': 20, 'measure': 'мл'},\n",
        "     {'ingridient_name': 'салат', 'quantity': 10, 'measure': 'гр'},\n",
        "     {'ingridient_name': 'перец', 'quantity': 20, 'measure': 'гр'}\n",
        "    ],\n",
        "  'пицца': [\n",
        "     {'ingridient_name': 'сыр', 'quantity': 20, 'measure': 'гр'},\n",
        "     {'ingridient_name': 'колбаса', 'quantity': 30, 'measure': 'гр'},\n",
        "     {'ingridient_name': 'бекон', 'quantity': 30, 'measure': 'гр'},\n",
        "     {'ingridient_name': 'оливки', 'quantity': 10, 'measure': 'гр'},\n",
        "     {'ingridient_name': 'томаты', 'quantity': 20, 'measure': 'гр'},\n",
        "     {'ingridient_name': 'тесто', 'quantity': 100, 'measure': 'гр'},\n",
        "    ],\n",
        "  'лимонад': [\n",
        "     {'ingridient_name': 'лимон', 'quantity': 1, 'measure': 'шт'},\n",
        "     {'ingridient_name': 'вода', 'quantity': 200, 'measure': 'мл'},\n",
        "     {'ingridient_name': 'сахар', 'quantity': 10, 'measure': 'гр'},\n",
        "     {'ingridient_name': 'лайм', 'quantity': 20, 'measure': 'гр'},\n",
        "    ]\n",
        "}\n",
        "from pprint import pprint\n",
        "\n",
        "n = int(input('Введите количество порций: '))\n",
        "key = ''\n",
        "value = []\n",
        "final_dict = {}\n",
        "for i in cook_book.values():\n",
        "    for j in i:\n",
        "        key = j['ingridient_name']\n",
        "        if key not in final_dict:\n",
        "            final_dict[key] = [j['quantity'], j['measure']]\n",
        "        elif key in final_dict:\n",
        "            final_dict[key][0] += j['quantity']\n",
        "\n",
        "for _ in final_dict:\n",
        "    final_dict[_][0] *= n\n",
        "\n",
        "for key, value in final_dict.items():\n",
        "  print(key, \":\", \" \".join(map(str, value)))\n"
      ],
      "execution_count": 11,
      "outputs": [
        {
          "output_type": "stream",
          "text": [
            "Введите количество порций: 3\n",
            "сыр : 210 гр\n",
            "томаты : 66 шт\n",
            "огурцы : 60 гр\n",
            "маслины : 30 гр\n",
            "оливковое масло : 60 мл\n",
            "салат : 30 гр\n",
            "перец : 60 гр\n",
            "колбаса : 90 гр\n",
            "бекон : 90 гр\n",
            "оливки : 30 гр\n",
            "тесто : 300 гр\n",
            "лимон : 3 шт\n",
            "вода : 600 мл\n",
            "сахар : 30 гр\n",
            "лайм : 60 гр\n"
          ],
          "name": "stdout"
        }
      ]
    }
  ]
}